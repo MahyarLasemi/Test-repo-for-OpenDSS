{
  "nbformat": 4,
  "nbformat_minor": 0,
  "metadata": {
    "colab": {
      "provenance": [],
      "authorship_tag": "ABX9TyOrLGvyJQSS2XHqgeeXgQRS",
      "include_colab_link": true
    },
    "kernelspec": {
      "name": "python3",
      "display_name": "Python 3"
    },
    "language_info": {
      "name": "python"
    }
  },
  "cells": [
    {
      "cell_type": "markdown",
      "metadata": {
        "id": "view-in-github",
        "colab_type": "text"
      },
      "source": [
        "<a href=\"https://colab.research.google.com/github/MahyarLasemi/Test-repo-for-OpenDSS/blob/main/OpenDSS.ipynb\" target=\"_parent\"><img src=\"https://colab.research.google.com/assets/colab-badge.svg\" alt=\"Open In Colab\"/></a>"
      ]
    },
    {
      "cell_type": "markdown",
      "source": [
        "Install dss-python"
      ],
      "metadata": {
        "id": "eHCuB5iDPtUX"
      }
    },
    {
      "cell_type": "code",
      "execution_count": null,
      "metadata": {
        "id": "SZcYxY_NiG9d",
        "collapsed": true
      },
      "outputs": [],
      "source": [
        "!pip install dss-python"
      ]
    },
    {
      "cell_type": "markdown",
      "source": [
        "Import neccesary packages"
      ],
      "metadata": {
        "id": "PLvmOjw5QFU7"
      }
    },
    {
      "cell_type": "code",
      "source": [
        "import os\n",
        "import dss"
      ],
      "metadata": {
        "id": "hYdw68koQNXC"
      },
      "execution_count": 3,
      "outputs": []
    },
    {
      "cell_type": "markdown",
      "source": [
        "Innitialize the DSS"
      ],
      "metadata": {
        "id": "p2qMWcCSQPyS"
      }
    },
    {
      "cell_type": "code",
      "source": [
        "DSS = dss.DSS"
      ],
      "metadata": {
        "id": "NvFs2gk2QWj5"
      },
      "execution_count": 4,
      "outputs": []
    },
    {
      "cell_type": "markdown",
      "source": [
        "Import files from github and compile it"
      ],
      "metadata": {
        "id": "WxVUzUl3QYJa"
      }
    },
    {
      "cell_type": "code",
      "source": [
        "!rm -rf *  # Remove all previous uploaded files\n",
        "!wget https://raw.githubusercontent.com/MahyarLasemi/Test-repo-for-OpenDSS/main/IEEE13Nodeckt.dss\n",
        "!wget https://raw.githubusercontent.com/MahyarLasemi/Test-repo-for-OpenDSS/main/IEEELineCodes.DSS\n",
        "!wget https://raw.githubusercontent.com/MahyarLasemi/Test-repo-for-OpenDSS/main/IEEE13Node_BusXY.csv"
      ],
      "metadata": {
        "id": "LclR8GVa0I2X"
      },
      "execution_count": null,
      "outputs": []
    },
    {
      "cell_type": "code",
      "source": [
        "Main_file = \"IEEE13Nodeckt.dss\"  # Put the main dss file to 'dss_file' parameter\n",
        "DSS.Text.Command = f'Compile \"{Main_file}\"'\n",
        "print(\"Compiled the DSS model.\")"
      ],
      "metadata": {
        "id": "BrxQsKmtWt0L",
        "outputId": "494020ef-5fe4-444e-fbeb-2e43b64fda30",
        "colab": {
          "base_uri": "https://localhost:8080/"
        }
      },
      "execution_count": 17,
      "outputs": [
        {
          "output_type": "stream",
          "name": "stdout",
          "text": [
            "Compiled the DSS model.\n"
          ]
        }
      ]
    },
    {
      "cell_type": "markdown",
      "source": [
        "Solve the model"
      ],
      "metadata": {
        "id": "EBUeKO676XSA"
      }
    },
    {
      "cell_type": "code",
      "source": [
        "DSS.Text.Command = \"Solve\"\n",
        "print(\"Power flow solved\")"
      ],
      "metadata": {
        "id": "wzFqZpMc6nI3",
        "outputId": "98a2f9ce-9060-4d80-f97f-42de15c47c40",
        "colab": {
          "base_uri": "https://localhost:8080/"
        }
      },
      "execution_count": 19,
      "outputs": [
        {
          "output_type": "stream",
          "name": "stdout",
          "text": [
            "Power flow solved\n"
          ]
        }
      ]
    },
    {
      "cell_type": "code",
      "source": [
        "\n",
        "# Solve the circuit\n",
        "\n",
        "\n",
        "# Display total active and reactive power\n",
        "S_total = DSS.ActiveCircuit.TotalPower\n",
        "print(f'Apparent power: {S_total}')\n",
        "print(f\"Total Active Power (kW): {S_total[0]:.2f}\")\n",
        "print(f\"Total Reactive Power (kVAR): {S_total[1]:.2f}\")\n",
        "\n",
        "# Print voltages at each bus\n",
        "print(\"\\nBus Voltages:\")\n",
        "for bus_name in DSS.ActiveCircuit.AllBusNames:\n",
        "    DSS.ActiveCircuit.SetActiveBus(bus_name)\n",
        "    VmagAngle = DSS.ActiveCircuit.Buses.VMagAngle  # [V1, A1, V2, A2, ...]\n",
        "    print(f\"{bus_name}: {VmagAngle}\")\n",
        "\n",
        "# Add EV as a load (charging mode) at bus652\n",
        "DSS.Text.Command = \"New Load.EV1 phases=1 bus1=652.1 kV=2.4 kW=7.2 pf=0.95\"\n",
        "print(\"Added EV as a charging load at bus652.\")\n",
        "# DSS.Text.Command = \"Solve\"\n",
        "DSS.Text.Command = \"New Storage.EV1 phases=1 bus1=652.1 kV=2.4 kWRated=7.2 kWhRated=40 %stored=50\"\n",
        "print(\"Added EV as a bidirectional storage system at bus652.\")\n",
        "DSS.Text.Command = \"Solve\"\n",
        "\n",
        "DSS.ActiveCircuit.SetActiveElement(\"Storage.EV1\")\n",
        "power = DSS.ActiveCircuit.ActiveCktElement.Powers\n",
        "print(f\"EV power (kW, kVAR): {power[0]:.2f}, {power[1]:.2f}\")\n",
        "\n",
        "soc = DSS.ActiveCircuit.StorageElements.PerUnitStored\n",
        "print(f\"EV SOC: {soc*100:.1f}%\")\n"
      ],
      "metadata": {
        "colab": {
          "base_uri": "https://localhost:8080/",
          "height": 375
        },
        "id": "1dIaWoVh1awg",
        "outputId": "bb0ae39a-345f-468d-d7cb-91794e4577c1",
        "collapsed": true
      },
      "execution_count": null,
      "outputs": [
        {
          "output_type": "error",
          "ename": "DSSException",
          "evalue": "(#243) Redirect file not found: \"IEEE13Nodeckt.dss\"",
          "traceback": [
            "\u001b[0;31m---------------------------------------------------------------------------\u001b[0m",
            "\u001b[0;31mDSSException\u001b[0m                              Traceback (most recent call last)",
            "\u001b[0;32m<ipython-input-12-574f91a7d800>\u001b[0m in \u001b[0;36m<cell line: 0>\u001b[0;34m()\u001b[0m\n\u001b[1;32m     16\u001b[0m \u001b[0;31m# Compile the IEEE 13 Node feeder main file\u001b[0m\u001b[0;34m\u001b[0m\u001b[0;34m\u001b[0m\u001b[0m\n\u001b[1;32m     17\u001b[0m \u001b[0mdss_file\u001b[0m \u001b[0;34m=\u001b[0m \u001b[0;34m\"IEEE13Nodeckt.dss\"\u001b[0m  \u001b[0;31m# Put the main dss file to 'dss_file' parameter\u001b[0m\u001b[0;34m\u001b[0m\u001b[0;34m\u001b[0m\u001b[0m\n\u001b[0;32m---> 18\u001b[0;31m \u001b[0mDSS\u001b[0m\u001b[0;34m.\u001b[0m\u001b[0mText\u001b[0m\u001b[0;34m.\u001b[0m\u001b[0mCommand\u001b[0m \u001b[0;34m=\u001b[0m \u001b[0;34mf'Compile \"{dss_file}\"'\u001b[0m\u001b[0;34m\u001b[0m\u001b[0;34m\u001b[0m\u001b[0m\n\u001b[0m\u001b[1;32m     19\u001b[0m \u001b[0mprint\u001b[0m\u001b[0;34m(\u001b[0m\u001b[0;34m\"Compiled the DSS model.\"\u001b[0m\u001b[0;34m)\u001b[0m\u001b[0;34m\u001b[0m\u001b[0;34m\u001b[0m\u001b[0m\n\u001b[1;32m     20\u001b[0m \u001b[0;34m\u001b[0m\u001b[0m\n",
            "\u001b[0;32m/usr/local/lib/python3.11/dist-packages/dss/IText.py\u001b[0m in \u001b[0;36mCommand\u001b[0;34m(self, Value)\u001b[0m\n\u001b[1;32m     22\u001b[0m             \u001b[0mValue\u001b[0m \u001b[0;34m=\u001b[0m \u001b[0mValue\u001b[0m\u001b[0;34m.\u001b[0m\u001b[0mencode\u001b[0m\u001b[0;34m(\u001b[0m\u001b[0mself\u001b[0m\u001b[0;34m.\u001b[0m\u001b[0m_api_util\u001b[0m\u001b[0;34m.\u001b[0m\u001b[0mcodec\u001b[0m\u001b[0;34m)\u001b[0m\u001b[0;34m\u001b[0m\u001b[0;34m\u001b[0m\u001b[0m\n\u001b[1;32m     23\u001b[0m \u001b[0;34m\u001b[0m\u001b[0m\n\u001b[0;32m---> 24\u001b[0;31m         \u001b[0mself\u001b[0m\u001b[0;34m.\u001b[0m\u001b[0m_check_for_error\u001b[0m\u001b[0;34m(\u001b[0m\u001b[0mself\u001b[0m\u001b[0;34m.\u001b[0m\u001b[0m_lib\u001b[0m\u001b[0;34m.\u001b[0m\u001b[0mText_Set_Command\u001b[0m\u001b[0;34m(\u001b[0m\u001b[0mValue\u001b[0m\u001b[0;34m)\u001b[0m\u001b[0;34m)\u001b[0m\u001b[0;34m\u001b[0m\u001b[0;34m\u001b[0m\u001b[0m\n\u001b[0m\u001b[1;32m     25\u001b[0m \u001b[0;34m\u001b[0m\u001b[0m\n\u001b[1;32m     26\u001b[0m     \u001b[0;34m@\u001b[0m\u001b[0mproperty\u001b[0m\u001b[0;34m\u001b[0m\u001b[0;34m\u001b[0m\u001b[0m\n",
            "\u001b[0;32m/usr/local/lib/python3.11/dist-packages/dss/_cffi_api_util.py\u001b[0m in \u001b[0;36m_check_for_error\u001b[0;34m(self, result)\u001b[0m\n\u001b[1;32m    265\u001b[0m             \u001b[0merror_num\u001b[0m \u001b[0;34m=\u001b[0m \u001b[0mself\u001b[0m\u001b[0;34m.\u001b[0m\u001b[0m_errorPtr\u001b[0m\u001b[0;34m[\u001b[0m\u001b[0;36m0\u001b[0m\u001b[0;34m]\u001b[0m\u001b[0;34m\u001b[0m\u001b[0;34m\u001b[0m\u001b[0m\n\u001b[1;32m    266\u001b[0m             \u001b[0mself\u001b[0m\u001b[0;34m.\u001b[0m\u001b[0m_errorPtr\u001b[0m\u001b[0;34m[\u001b[0m\u001b[0;36m0\u001b[0m\u001b[0;34m]\u001b[0m \u001b[0;34m=\u001b[0m \u001b[0;36m0\u001b[0m\u001b[0;34m\u001b[0m\u001b[0;34m\u001b[0m\u001b[0m\n\u001b[0;32m--> 267\u001b[0;31m             \u001b[0;32mraise\u001b[0m \u001b[0mDSSException\u001b[0m\u001b[0;34m(\u001b[0m\u001b[0merror_num\u001b[0m\u001b[0;34m,\u001b[0m \u001b[0mself\u001b[0m\u001b[0;34m.\u001b[0m\u001b[0m_get_string\u001b[0m\u001b[0;34m(\u001b[0m\u001b[0mself\u001b[0m\u001b[0;34m.\u001b[0m\u001b[0m_lib\u001b[0m\u001b[0;34m.\u001b[0m\u001b[0mError_Get_Description\u001b[0m\u001b[0;34m(\u001b[0m\u001b[0;34m)\u001b[0m\u001b[0;34m)\u001b[0m\u001b[0;34m)\u001b[0m\u001b[0;34m\u001b[0m\u001b[0;34m\u001b[0m\u001b[0m\n\u001b[0m\u001b[1;32m    268\u001b[0m \u001b[0;34m\u001b[0m\u001b[0m\n\u001b[1;32m    269\u001b[0m         \u001b[0;32mreturn\u001b[0m \u001b[0mresult\u001b[0m\u001b[0;34m\u001b[0m\u001b[0;34m\u001b[0m\u001b[0m\n",
            "\u001b[0;31mDSSException\u001b[0m: (#243) Redirect file not found: \"IEEE13Nodeckt.dss\""
          ]
        }
      ]
    }
  ]
}